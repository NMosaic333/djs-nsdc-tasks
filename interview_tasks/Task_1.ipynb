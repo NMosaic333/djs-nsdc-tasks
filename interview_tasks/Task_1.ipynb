{
  "nbformat": 4,
  "nbformat_minor": 0,
  "metadata": {
    "colab": {
      "provenance": [],
      "authorship_tag": "ABX9TyPJJeey1H4IzVi+ZWGFLaDC",
      "include_colab_link": true
    },
    "kernelspec": {
      "name": "python3",
      "display_name": "Python 3"
    },
    "language_info": {
      "name": "python"
    }
  },
  "cells": [
    {
      "cell_type": "markdown",
      "metadata": {
        "id": "view-in-github",
        "colab_type": "text"
      },
      "source": [
        "<a href=\"https://colab.research.google.com/github/NMosaic333/djs-nsdc-tasks/blob/main/Task_1.ipynb\" target=\"_parent\"><img src=\"https://colab.research.google.com/assets/colab-badge.svg\" alt=\"Open In Colab\"/></a>"
      ]
    },
    {
      "cell_type": "code",
      "source": [
        "emoji_dict={}"
      ],
      "metadata": {
        "id": "PJVzmPRBC5GV"
      },
      "execution_count": 3,
      "outputs": []
    },
    {
      "cell_type": "code",
      "source": [
        "emoji_dict['a']='👍'"
      ],
      "metadata": {
        "id": "G-DxQyw9DIhc"
      },
      "execution_count": 7,
      "outputs": []
    },
    {
      "cell_type": "code",
      "source": [
        "emoji_dict={'a'='👍';'b'='❤️'\n",
        "            #,'c'=,'d'=,'e'=,'f'=,'g'=,'h'=,'i'=,'j'=,'k'=,'l'=,'m'=,'n'=,\n",
        "            #'o'=,'p'=,'q'=,'r'=,'s'=,'t'=,'u'=,'v'=,'w'=,'x'=,'z'=,'y'=,'A'=,'B'=,'C'=,'D'=,\n",
        "            #'E'=,'F'=,'G'=,'H'=,'I'=,'J'=,'K'=,'L'=,'M'=,'N'=,'O'=,'P'=,'Q'=,'R'=,'S'=,'T'=,\n",
        "            #'U'=,'V'=,'W'=,'X'=,'Y'=,'Z'=,'>'=,'<'=,':'=,';'=,'?'=,'/'=,'!'=,'#'=,'&'=,'*'=,\n",
        "            }"
      ],
      "metadata": {
        "colab": {
          "base_uri": "https://localhost:8080/",
          "height": 109
        },
        "id": "wDyxh8tN_mOG",
        "outputId": "b3f87cc5-c2d0-4b73-ac50-a218ce622048"
      },
      "execution_count": 6,
      "outputs": [
        {
          "output_type": "error",
          "ename": "SyntaxError",
          "evalue": "cannot assign to literal here. Maybe you meant '==' instead of '='? (<ipython-input-6-67e3826ad429>, line 1)",
          "traceback": [
            "\u001b[0;36m  File \u001b[0;32m\"<ipython-input-6-67e3826ad429>\"\u001b[0;36m, line \u001b[0;32m1\u001b[0m\n\u001b[0;31m    emoji_dict={'a'='👍';'b'='❤️'\u001b[0m\n\u001b[0m                ^\u001b[0m\n\u001b[0;31mSyntaxError\u001b[0m\u001b[0;31m:\u001b[0m cannot assign to literal here. Maybe you meant '==' instead of '='?\n"
          ]
        }
      ]
    },
    {
      "cell_type": "code",
      "execution_count": null,
      "metadata": {
        "id": "CIipC99Y9qXh"
      },
      "outputs": [],
      "source": [
        "def encrypt(text) -> None:\n",
        "  result=''\n",
        "  for i in range(len(text)):\n",
        "    char=text[i]\n",
        "    if char in emoji_dict:\n",
        "      result+=emoji_dict[char]\n",
        "    else:\n",
        "      result+=char\n",
        "  return result\n",
        ""
      ]
    },
    {
      "cell_type": "code",
      "source": [
        "print(encrypt('hello'))"
      ],
      "metadata": {
        "id": "ldNfi1rnBInJ"
      },
      "execution_count": null,
      "outputs": []
    }
  ]
}
